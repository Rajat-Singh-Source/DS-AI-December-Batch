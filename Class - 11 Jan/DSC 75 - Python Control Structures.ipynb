{
 "cells": [
  {
   "cell_type": "code",
   "execution_count": null,
   "id": "eecb0ee1-1043-4ff0-8623-e9de195ac72e",
   "metadata": {},
   "outputs": [],
   "source": [
    "int, float, string and bool"
   ]
  },
  {
   "cell_type": "code",
   "execution_count": null,
   "id": "d59b0648-3559-4dbd-95d7-3e0da8d4f0d5",
   "metadata": {},
   "outputs": [],
   "source": [
    "alphabets, numbers, underscore \n",
    "Numbers should not be at the start \n",
    "name = 'Rahul'"
   ]
  },
  {
   "cell_type": "code",
   "execution_count": null,
   "id": "cfb0ffa7-b601-4be3-b456-03248cc5fdd3",
   "metadata": {},
   "outputs": [],
   "source": [
    "NAME \n",
    "name \n",
    "Python case senstive programming "
   ]
  },
  {
   "cell_type": "code",
   "execution_count": 1,
   "id": "ec1220dc-b400-451e-be49-c26a6d1d43ed",
   "metadata": {},
   "outputs": [
    {
     "ename": "SyntaxError",
     "evalue": "invalid syntax (3458490339.py, line 1)",
     "output_type": "error",
     "traceback": [
      "\u001b[1;36m  Cell \u001b[1;32mIn[1], line 1\u001b[1;36m\u001b[0m\n\u001b[1;33m    for = 'Rahul'\u001b[0m\n\u001b[1;37m        ^\u001b[0m\n\u001b[1;31mSyntaxError\u001b[0m\u001b[1;31m:\u001b[0m invalid syntax\n"
     ]
    }
   ],
   "source": [
    "for = 'Rahul'"
   ]
  },
  {
   "cell_type": "code",
   "execution_count": 3,
   "id": "a9d306d5-ff1c-45c4-b568-d1a1d2cf5623",
   "metadata": {},
   "outputs": [
    {
     "data": {
      "text/plain": [
       "['False',\n",
       " 'None',\n",
       " 'True',\n",
       " 'and',\n",
       " 'as',\n",
       " 'assert',\n",
       " 'async',\n",
       " 'await',\n",
       " 'break',\n",
       " 'class',\n",
       " 'continue',\n",
       " 'def',\n",
       " 'del',\n",
       " 'elif',\n",
       " 'else',\n",
       " 'except',\n",
       " 'finally',\n",
       " 'for',\n",
       " 'from',\n",
       " 'global',\n",
       " 'if',\n",
       " 'import',\n",
       " 'in',\n",
       " 'is',\n",
       " 'lambda',\n",
       " 'nonlocal',\n",
       " 'not',\n",
       " 'or',\n",
       " 'pass',\n",
       " 'raise',\n",
       " 'return',\n",
       " 'try',\n",
       " 'while',\n",
       " 'with',\n",
       " 'yield']"
      ]
     },
     "execution_count": 3,
     "metadata": {},
     "output_type": "execute_result"
    }
   ],
   "source": [
    "import keyword\n",
    "keyword.kwlist"
   ]
  },
  {
   "cell_type": "code",
   "execution_count": null,
   "id": "a9f5a6bb-d9b4-4e16-bf78-c487c67ab1e7",
   "metadata": {},
   "outputs": [],
   "source": [
    "for - It has a meaning in Python"
   ]
  },
  {
   "cell_type": "code",
   "execution_count": 5,
   "id": "df6afac4-8faa-4b60-9345-35cb9936e064",
   "metadata": {},
   "outputs": [],
   "source": [
    "For = 'Rahul'"
   ]
  },
  {
   "cell_type": "code",
   "execution_count": 7,
   "id": "5f322b62-a541-4cc5-b108-219ee87490a5",
   "metadata": {},
   "outputs": [
    {
     "data": {
      "text/plain": [
       "'Rahul'"
      ]
     },
     "execution_count": 7,
     "metadata": {},
     "output_type": "execute_result"
    }
   ],
   "source": [
    "For"
   ]
  },
  {
   "cell_type": "code",
   "execution_count": 9,
   "id": "dd80ed08-15bd-4dfc-a862-a0c0e347423a",
   "metadata": {},
   "outputs": [],
   "source": [
    "#Index Concept"
   ]
  },
  {
   "cell_type": "code",
   "execution_count": 11,
   "id": "42b06290-b2f4-4807-a061-c10991804d19",
   "metadata": {},
   "outputs": [],
   "source": [
    "name = 'Upgrad' "
   ]
  },
  {
   "cell_type": "code",
   "execution_count": 13,
   "id": "1834e5c0-ef49-4057-bb65-a37513cc062a",
   "metadata": {},
   "outputs": [
    {
     "data": {
      "text/plain": [
       "'Upgrad'"
      ]
     },
     "execution_count": 13,
     "metadata": {},
     "output_type": "execute_result"
    }
   ],
   "source": [
    "name"
   ]
  },
  {
   "cell_type": "code",
   "execution_count": 15,
   "id": "c9e7f57c-0e86-49bc-9403-2cc54d99324d",
   "metadata": {},
   "outputs": [
    {
     "data": {
      "text/plain": [
       "'g'"
      ]
     },
     "execution_count": 15,
     "metadata": {},
     "output_type": "execute_result"
    }
   ],
   "source": [
    "name[2]"
   ]
  },
  {
   "cell_type": "code",
   "execution_count": 19,
   "id": "753e6d46-38a6-4ee1-92af-8f3aba88676a",
   "metadata": {},
   "outputs": [
    {
     "data": {
      "text/plain": [
       "'gra'"
      ]
     },
     "execution_count": 19,
     "metadata": {},
     "output_type": "execute_result"
    }
   ],
   "source": [
    "name[2:5]"
   ]
  },
  {
   "cell_type": "code",
   "execution_count": 25,
   "id": "246ad7c4-1272-46ad-868f-dcf56ae55127",
   "metadata": {},
   "outputs": [
    {
     "data": {
      "text/plain": [
       "'arg'"
      ]
     },
     "execution_count": 25,
     "metadata": {},
     "output_type": "execute_result"
    }
   ],
   "source": [
    "name[4:1:-1]"
   ]
  },
  {
   "cell_type": "code",
   "execution_count": null,
   "id": "2e6969ca-d3e8-4565-8a34-22eca96e31ea",
   "metadata": {},
   "outputs": [],
   "source": [
    "step - By default takes +1 that means left to right, if I wnat right to left we have to make it as -1"
   ]
  },
  {
   "cell_type": "code",
   "execution_count": 27,
   "id": "7868dbc5-0599-4b1a-85c8-86e32855c095",
   "metadata": {},
   "outputs": [
    {
     "data": {
      "text/plain": [
       "'ag'"
      ]
     },
     "execution_count": 27,
     "metadata": {},
     "output_type": "execute_result"
    }
   ],
   "source": [
    "name[4:0:-2]"
   ]
  },
  {
   "cell_type": "code",
   "execution_count": 29,
   "id": "5508edb6-5033-4797-ae1c-b2b037a2e313",
   "metadata": {},
   "outputs": [
    {
     "data": {
      "text/plain": [
       "'drp'"
      ]
     },
     "execution_count": 29,
     "metadata": {},
     "output_type": "execute_result"
    }
   ],
   "source": [
    "name[5:0:-2]"
   ]
  },
  {
   "cell_type": "code",
   "execution_count": 31,
   "id": "553e453a-d0d9-4c7b-b795-dc7140dccc73",
   "metadata": {},
   "outputs": [
    {
     "data": {
      "text/plain": [
       "''"
      ]
     },
     "execution_count": 31,
     "metadata": {},
     "output_type": "execute_result"
    }
   ],
   "source": [
    "name[4:0:+1]"
   ]
  },
  {
   "cell_type": "code",
   "execution_count": 33,
   "id": "bc1953a9-0825-4318-b80e-7789bec73ae6",
   "metadata": {},
   "outputs": [
    {
     "data": {
      "text/plain": [
       "'dargpU'"
      ]
     },
     "execution_count": 33,
     "metadata": {},
     "output_type": "execute_result"
    }
   ],
   "source": [
    "name[5::-1]"
   ]
  },
  {
   "cell_type": "code",
   "execution_count": 35,
   "id": "321a76a6-0b61-4cab-b4b7-d3dff9d5ad73",
   "metadata": {},
   "outputs": [
    {
     "data": {
      "text/plain": [
       "'a'"
      ]
     },
     "execution_count": 35,
     "metadata": {},
     "output_type": "execute_result"
    }
   ],
   "source": [
    "name[4]"
   ]
  },
  {
   "cell_type": "code",
   "execution_count": 37,
   "id": "01c2d58a-e83b-46ab-987c-f2553b409e11",
   "metadata": {},
   "outputs": [
    {
     "data": {
      "text/plain": [
       "'a'"
      ]
     },
     "execution_count": 37,
     "metadata": {},
     "output_type": "execute_result"
    }
   ],
   "source": [
    "name[-2]"
   ]
  },
  {
   "cell_type": "code",
   "execution_count": 43,
   "id": "41bf8963-7be1-40bd-9f6c-9c30e83066bf",
   "metadata": {},
   "outputs": [
    {
     "data": {
      "text/plain": [
       "'arg'"
      ]
     },
     "execution_count": 43,
     "metadata": {},
     "output_type": "execute_result"
    }
   ],
   "source": [
    "name[-2:-5:-1]"
   ]
  },
  {
   "cell_type": "code",
   "execution_count": 47,
   "id": "e16e6953-56ad-4bad-8e07-3fc7cf701835",
   "metadata": {},
   "outputs": [
    {
     "data": {
      "text/plain": [
       "''"
      ]
     },
     "execution_count": 47,
     "metadata": {},
     "output_type": "execute_result"
    }
   ],
   "source": [
    "name[-5:4:-1]"
   ]
  },
  {
   "cell_type": "code",
   "execution_count": 49,
   "id": "107b59a3-5a9c-4272-a973-46f791c9993f",
   "metadata": {},
   "outputs": [
    {
     "data": {
      "text/plain": [
       "'rad'"
      ]
     },
     "execution_count": 49,
     "metadata": {},
     "output_type": "execute_result"
    }
   ],
   "source": [
    "name[3::]"
   ]
  },
  {
   "cell_type": "code",
   "execution_count": 51,
   "id": "4e36fc51-95cf-4f1c-b9ab-50f378b84b18",
   "metadata": {},
   "outputs": [
    {
     "data": {
      "text/plain": [
       "'rad'"
      ]
     },
     "execution_count": 51,
     "metadata": {},
     "output_type": "execute_result"
    }
   ],
   "source": [
    "name[3:]"
   ]
  },
  {
   "cell_type": "code",
   "execution_count": 53,
   "id": "a65d011c-b34f-4458-8867-22eff56b8c46",
   "metadata": {},
   "outputs": [
    {
     "data": {
      "text/plain": [
       "''"
      ]
     },
     "execution_count": 53,
     "metadata": {},
     "output_type": "execute_result"
    }
   ],
   "source": [
    "name[-6:0]"
   ]
  },
  {
   "cell_type": "code",
   "execution_count": 63,
   "id": "ae50ab31-5e0b-493e-b99f-d896b3db314f",
   "metadata": {},
   "outputs": [
    {
     "name": "stdin",
     "output_type": "stream",
     "text": [
      "Enter the name:  10\n"
     ]
    },
    {
     "data": {
      "text/plain": [
       "float"
      ]
     },
     "execution_count": 63,
     "metadata": {},
     "output_type": "execute_result"
    }
   ],
   "source": [
    "name = float(input('Enter the name: '))\n",
    "type(name)"
   ]
  },
  {
   "cell_type": "code",
   "execution_count": 65,
   "id": "faf89d32-c34f-476e-9adf-9726e0710246",
   "metadata": {},
   "outputs": [
    {
     "data": {
      "text/plain": [
       "10.0"
      ]
     },
     "execution_count": 65,
     "metadata": {},
     "output_type": "execute_result"
    }
   ],
   "source": [
    "name"
   ]
  },
  {
   "cell_type": "code",
   "execution_count": 67,
   "id": "13601c79-fa22-4657-824f-2acb65262883",
   "metadata": {},
   "outputs": [],
   "source": [
    "#if else "
   ]
  },
  {
   "cell_type": "code",
   "execution_count": 95,
   "id": "bc3518e8-a61f-49a4-a2a6-34b4ac774f34",
   "metadata": {},
   "outputs": [
    {
     "name": "stdin",
     "output_type": "stream",
     "text": [
      "Enter the number you got:  50\n"
     ]
    },
    {
     "name": "stdout",
     "output_type": "stream",
     "text": [
      "You are passing the exam\n"
     ]
    }
   ],
   "source": [
    "marks = int(input('Enter the number you got: '))\n",
    "if marks<40:\n",
    "    print('You are failing the exam') \n",
    "else:\n",
    "    print('You are passing the exam')"
   ]
  },
  {
   "cell_type": "code",
   "execution_count": null,
   "id": "d8d767f9-38c7-49e5-ae43-4ffe3b891d1d",
   "metadata": {},
   "outputs": [],
   "source": [
    "if condition:\n",
    "condition = Marks<40    "
   ]
  },
  {
   "cell_type": "code",
   "execution_count": null,
   "id": "61154dbb-853e-4aa2-a7d9-9e7ecb92aca8",
   "metadata": {},
   "outputs": [],
   "source": [
    "This gap is known as tab indentation "
   ]
  },
  {
   "cell_type": "code",
   "execution_count": null,
   "id": "4502b552-63d1-4638-8602-313b5fe348a2",
   "metadata": {},
   "outputs": [],
   "source": [
    "marks = int(input('Enter the marks: '))\n",
    "if marks<40:\n",
    "    print('You are failing the exam')\n",
    "elif"
   ]
  },
  {
   "cell_type": "code",
   "execution_count": 111,
   "id": "97b12132-a9f5-48b2-b1a9-6be6fa2b29a8",
   "metadata": {},
   "outputs": [
    {
     "ename": "IndentationError",
     "evalue": "expected an indented block after 'else' statement on line 6 (3468366870.py, line 7)",
     "output_type": "error",
     "traceback": [
      "\u001b[1;36m  Cell \u001b[1;32mIn[111], line 7\u001b[1;36m\u001b[0m\n\u001b[1;33m    print('Hello, You are passing the exam')\u001b[0m\n\u001b[1;37m    ^\u001b[0m\n\u001b[1;31mIndentationError\u001b[0m\u001b[1;31m:\u001b[0m expected an indented block after 'else' statement on line 6\n"
     ]
    }
   ],
   "source": [
    "marks = int(input('Enter the number you got: '))\n",
    "print('Hello')\n",
    "if marks<40:\n",
    "    print('Hello, You are failing the exam') \n",
    "    print('Hi')\n",
    "else:\n",
    "    print('Hello, You are passing the exam')\n",
    "print('Hello')"
   ]
  },
  {
   "cell_type": "code",
   "execution_count": 121,
   "id": "ae72c502-b4b7-42f1-9413-979243c39423",
   "metadata": {},
   "outputs": [
    {
     "name": "stdin",
     "output_type": "stream",
     "text": [
      "Enter your marks:  10\n"
     ]
    },
    {
     "name": "stdout",
     "output_type": "stream",
     "text": [
      "You are failing the exam\n",
      "You got excellent marks\n"
     ]
    }
   ],
   "source": [
    "marks = int(input('Enter your marks: '))\n",
    "if marks<40:\n",
    "    print('You are failing the exam')\n",
    "elif marks>=40 and marks<=60:\n",
    "    print('You got an avg marks')\n",
    "else:\n",
    "    print('You got excellent marks')"
   ]
  },
  {
   "cell_type": "code",
   "execution_count": 119,
   "id": "57a32de4-669a-4f0f-a941-ee0a46349203",
   "metadata": {},
   "outputs": [
    {
     "ename": "SyntaxError",
     "evalue": "Missing parentheses in call to 'print'. Did you mean print(...)? (3086790394.py, line 4)",
     "output_type": "error",
     "traceback": [
      "\u001b[1;36m  Cell \u001b[1;32mIn[119], line 4\u001b[1;36m\u001b[0m\n\u001b[1;33m    print 'rahul'\u001b[0m\n\u001b[1;37m    ^\u001b[0m\n\u001b[1;31mSyntaxError\u001b[0m\u001b[1;31m:\u001b[0m Missing parentheses in call to 'print'. Did you mean print(...)?\n"
     ]
    }
   ],
   "source": [
    "print('Hi')\n",
    "print('Hello')\n",
    "print('How are you')\n",
    "print 'rahul'"
   ]
  },
  {
   "cell_type": "code",
   "execution_count": 137,
   "id": "e8473665-aad3-4b5d-ab43-a572d01ab3e9",
   "metadata": {},
   "outputs": [
    {
     "name": "stdin",
     "output_type": "stream",
     "text": [
      "Enter the salary:  25000\n"
     ]
    },
    {
     "name": "stdout",
     "output_type": "stream",
     "text": [
      "The total tax you have to pay is: Rs 7500\n"
     ]
    }
   ],
   "source": [
    "salary = int(input('Enter the salary: '))\n",
    "if salary<=2500:\n",
    "    print('The total tax you have to pay is: ', salary*0)\n",
    "elif salary>2500 and salary<=5000:\n",
    "    print('The total tax you have to pay is: ', salary*0.05)\n",
    "elif salary>5000 and salary<=10000:\n",
    "    print('The total tax you have to pay is: ', salary*0.10)\n",
    "elif salary>10000 and salary<=20000:\n",
    "    print('The total tax you have to pay is: ', salary*0.20)\n",
    "else:\n",
    "    print('The total tax you have to pay is: Rs',int(salary*0.30))"
   ]
  },
  {
   "cell_type": "code",
   "execution_count": 133,
   "id": "ead342b2-96c2-4c4b-9f9b-4322ddc58a03",
   "metadata": {},
   "outputs": [
    {
     "name": "stdin",
     "output_type": "stream",
     "text": [
      "Enter the number:  2\n"
     ]
    },
    {
     "name": "stdout",
     "output_type": "stream",
     "text": [
      "You are an even number\n"
     ]
    }
   ],
   "source": [
    "number = int(input('Enter the number: '))\n",
    "if number%2==0:\n",
    "    print('You are an even number')\n",
    "else:\n",
    "    print('You are an odd number')"
   ]
  },
  {
   "cell_type": "code",
   "execution_count": 139,
   "id": "04da76d3-910a-4702-9a43-2ecf28ad001c",
   "metadata": {},
   "outputs": [],
   "source": [
    "#for loops "
   ]
  },
  {
   "cell_type": "code",
   "execution_count": 143,
   "id": "69603e0d-99f3-4890-bc11-5d3d664b6d10",
   "metadata": {},
   "outputs": [
    {
     "name": "stdout",
     "output_type": "stream",
     "text": [
      "U\n",
      "p\n",
      "g\n",
      "r\n",
      "a\n",
      "d\n"
     ]
    }
   ],
   "source": [
    "name = 'Upgrad'\n",
    "for i in name:\n",
    "    print(i)\n",
    "    "
   ]
  },
  {
   "cell_type": "code",
   "execution_count": 149,
   "id": "346af2dc-02db-479b-b59b-cad7b2bc8541",
   "metadata": {},
   "outputs": [
    {
     "name": "stdout",
     "output_type": "stream",
     "text": [
      "AIndia cIndia cIndia eIndia nIndia tIndia uIndia rIndia eIndia "
     ]
    }
   ],
   "source": [
    "name = 'Accenture'\n",
    "for i in name:\n",
    "    print(i+'India',end=\" \")"
   ]
  },
  {
   "cell_type": "code",
   "execution_count": 155,
   "id": "c3dd9903-47b8-4d8d-b853-59d480e4518f",
   "metadata": {},
   "outputs": [
    {
     "name": "stdout",
     "output_type": "stream",
     "text": [
      "hi\n",
      "Hello\n"
     ]
    }
   ],
   "source": [
    "print('hi',end=\"\\n\")\n",
    "print('Hello')"
   ]
  },
  {
   "cell_type": "code",
   "execution_count": 161,
   "id": "881d0390-3e26-49be-9faa-0d63368a411b",
   "metadata": {},
   "outputs": [
    {
     "data": {
      "text/plain": [
       "[5, 6, 7, 8, 9]"
      ]
     },
     "execution_count": 161,
     "metadata": {},
     "output_type": "execute_result"
    }
   ],
   "source": [
    "list(range(5,10))"
   ]
  },
  {
   "cell_type": "code",
   "execution_count": 165,
   "id": "c73847ba-ad0f-492b-9523-e838bf625c31",
   "metadata": {},
   "outputs": [
    {
     "data": {
      "text/plain": [
       "[10, 9, 8, 7, 6]"
      ]
     },
     "execution_count": 165,
     "metadata": {},
     "output_type": "execute_result"
    }
   ],
   "source": [
    "list(range(10,5,-1))"
   ]
  },
  {
   "cell_type": "code",
   "execution_count": 183,
   "id": "0db2818d-343c-45cd-94bc-217d178a9664",
   "metadata": {},
   "outputs": [
    {
     "name": "stdout",
     "output_type": "stream",
     "text": [
      "a 0 c 1 c 2 e 3 n 4 t 5 u 6 r 7 e 8 "
     ]
    }
   ],
   "source": [
    "name = 'accenture'\n",
    "for i in range(0,len(name)):\n",
    "    print(name[i],i, end=\" \")"
   ]
  },
  {
   "cell_type": "code",
   "execution_count": 185,
   "id": "42f00b29-c918-4f4d-8605-8f8e9a0f5746",
   "metadata": {},
   "outputs": [],
   "source": [
    "sales = [2535,4543,2122,4322]\n",
    "profit = [544,212,122,333]"
   ]
  },
  {
   "cell_type": "code",
   "execution_count": 193,
   "id": "e5836ba7-fcd1-4ef5-9892-d68f2f49090d",
   "metadata": {},
   "outputs": [
    {
     "data": {
      "text/plain": [
       "4543"
      ]
     },
     "execution_count": 193,
     "metadata": {},
     "output_type": "execute_result"
    }
   ],
   "source": [
    "sales[1]"
   ]
  },
  {
   "cell_type": "code",
   "execution_count": 195,
   "id": "886d9b5c-0967-4a07-be78-8087e46c99e9",
   "metadata": {},
   "outputs": [
    {
     "data": {
      "text/plain": [
       "212"
      ]
     },
     "execution_count": 195,
     "metadata": {},
     "output_type": "execute_result"
    }
   ],
   "source": [
    "profit[1]"
   ]
  },
  {
   "cell_type": "code",
   "execution_count": 213,
   "id": "55868812-5fba-49de-8af1-25f6cc3478de",
   "metadata": {},
   "outputs": [
    {
     "data": {
      "text/plain": [
       "4"
      ]
     },
     "execution_count": 213,
     "metadata": {},
     "output_type": "execute_result"
    }
   ],
   "source": [
    "len(profit)"
   ]
  },
  {
   "cell_type": "code",
   "execution_count": 215,
   "id": "8abd7dac-0460-4823-bf02-622d2e632d43",
   "metadata": {},
   "outputs": [
    {
     "name": "stdout",
     "output_type": "stream",
     "text": [
      "0.2145956607495069\n",
      "0.04666519920757209\n",
      "0.057492931196983975\n",
      "0.07704766311892643\n"
     ]
    }
   ],
   "source": [
    "for i in list(range(0,4)):\n",
    "    print(profit[i]/sales[i])"
   ]
  },
  {
   "cell_type": "code",
   "execution_count": 207,
   "id": "27f615d2-deb2-4862-9056-631ba310a370",
   "metadata": {},
   "outputs": [
    {
     "ename": "TypeError",
     "evalue": "unsupported operand type(s) for /: 'list' and 'list'",
     "output_type": "error",
     "traceback": [
      "\u001b[1;31m---------------------------------------------------------------------------\u001b[0m",
      "\u001b[1;31mTypeError\u001b[0m                                 Traceback (most recent call last)",
      "Cell \u001b[1;32mIn[207], line 1\u001b[0m\n\u001b[1;32m----> 1\u001b[0m profit\u001b[38;5;241m/\u001b[39msales\n",
      "\u001b[1;31mTypeError\u001b[0m: unsupported operand type(s) for /: 'list' and 'list'"
     ]
    }
   ],
   "source": [
    "profit/sales"
   ]
  },
  {
   "cell_type": "code",
   "execution_count": 221,
   "id": "65817551-10e7-408d-8650-5c2d7d50458b",
   "metadata": {},
   "outputs": [],
   "source": [
    "profit = [324,221,332,555]\n",
    "sales = [5554,3233,2333]"
   ]
  },
  {
   "cell_type": "code",
   "execution_count": 223,
   "id": "217fb2ba-91b1-4280-af97-2db3aef18cc3",
   "metadata": {},
   "outputs": [
    {
     "name": "stdout",
     "output_type": "stream",
     "text": [
      "0.0583363341735686\n",
      "0.06835756263532324\n",
      "0.14230604372053152\n"
     ]
    },
    {
     "ename": "IndexError",
     "evalue": "list index out of range",
     "output_type": "error",
     "traceback": [
      "\u001b[1;31m---------------------------------------------------------------------------\u001b[0m",
      "\u001b[1;31mIndexError\u001b[0m                                Traceback (most recent call last)",
      "Cell \u001b[1;32mIn[223], line 2\u001b[0m\n\u001b[0;32m      1\u001b[0m \u001b[38;5;28;01mfor\u001b[39;00m i \u001b[38;5;129;01min\u001b[39;00m \u001b[38;5;28mrange\u001b[39m(\u001b[38;5;241m0\u001b[39m,\u001b[38;5;28mlen\u001b[39m(profit)):\n\u001b[1;32m----> 2\u001b[0m     \u001b[38;5;28mprint\u001b[39m(profit[i]\u001b[38;5;241m/\u001b[39msales[i])\n",
      "\u001b[1;31mIndexError\u001b[0m: list index out of range"
     ]
    }
   ],
   "source": [
    "for i in range(0,len(profit)):[0,1,2,3]\n",
    "    print(profit[i]/sales[i])"
   ]
  },
  {
   "cell_type": "code",
   "execution_count": 233,
   "id": "4a95bf2b-b73b-4dcc-9fac-7ca08f1f0fc9",
   "metadata": {},
   "outputs": [
    {
     "name": "stdout",
     "output_type": "stream",
     "text": [
      "10 You are an even number\n",
      "21 You are an odd number\n",
      "22 You are an even number\n",
      "12 You are an even number\n",
      "11 You are an odd number\n",
      "43 You are an odd number\n",
      "22 You are an even number\n",
      "12 You are an even number\n"
     ]
    }
   ],
   "source": [
    "numbers = [10,21,22,12,11,43,22,12]\n",
    "for i in numbers:\n",
    "    if i%2==0:\n",
    "        print(i,'You are an even number')\n",
    "    else:\n",
    "        print(i,'You are an odd number')"
   ]
  },
  {
   "cell_type": "code",
   "execution_count": 227,
   "id": "005ad7d1-16a1-44d0-ab49-8b269a62b6ee",
   "metadata": {},
   "outputs": [
    {
     "name": "stdout",
     "output_type": "stream",
     "text": [
      "You enrolled\n",
      "You did not\n"
     ]
    }
   ],
   "source": [
    "students = ['enrolled', 'Did not']\n",
    "for i in students:\n",
    "    if i=='enrolled':\n",
    "        print('You enrolled')\n",
    "    else:\n",
    "        print('You did not')"
   ]
  },
  {
   "cell_type": "code",
   "execution_count": 239,
   "id": "e03957fb-857c-4dd6-959c-ec6bf9c0d499",
   "metadata": {},
   "outputs": [
    {
     "name": "stdout",
     "output_type": "stream",
     "text": [
      "[12, 22, 22, 12, 32]\n"
     ]
    }
   ],
   "source": [
    "numbers_list = [12,22,43,22,12,32]\n",
    "result = []\n",
    "for i in numbers_list:\n",
    "    if i%2==0:\n",
    "        result.append(i)\n",
    "print(result)"
   ]
  },
  {
   "cell_type": "code",
   "execution_count": 241,
   "id": "5f244772-f9f2-45a0-aebc-20425d4b981c",
   "metadata": {},
   "outputs": [],
   "source": [
    "#While loops "
   ]
  },
  {
   "cell_type": "code",
   "execution_count": 243,
   "id": "78fbd145-ea88-4df2-acaa-dfb90671d413",
   "metadata": {},
   "outputs": [
    {
     "ename": "TypeError",
     "evalue": "'int' object is not iterable",
     "output_type": "error",
     "traceback": [
      "\u001b[1;31m---------------------------------------------------------------------------\u001b[0m",
      "\u001b[1;31mTypeError\u001b[0m                                 Traceback (most recent call last)",
      "Cell \u001b[1;32mIn[243], line 1\u001b[0m\n\u001b[1;32m----> 1\u001b[0m \u001b[38;5;28;01mfor\u001b[39;00m i \u001b[38;5;129;01min\u001b[39;00m \u001b[38;5;241m10\u001b[39m:\n\u001b[0;32m      2\u001b[0m     \u001b[38;5;28mprint\u001b[39m(i)\n",
      "\u001b[1;31mTypeError\u001b[0m: 'int' object is not iterable"
     ]
    }
   ],
   "source": [
    "for i in 10:\n",
    "    print(i)"
   ]
  },
  {
   "cell_type": "code",
   "execution_count": 245,
   "id": "f4eec100-64ae-4283-b61f-e5839193fc02",
   "metadata": {},
   "outputs": [
    {
     "ename": "TypeError",
     "evalue": "'int' object is not iterable",
     "output_type": "error",
     "traceback": [
      "\u001b[1;31m---------------------------------------------------------------------------\u001b[0m",
      "\u001b[1;31mTypeError\u001b[0m                                 Traceback (most recent call last)",
      "Cell \u001b[1;32mIn[245], line 2\u001b[0m\n\u001b[0;32m      1\u001b[0m a \u001b[38;5;241m=\u001b[39m\u001b[38;5;241m10\u001b[39m\n\u001b[1;32m----> 2\u001b[0m \u001b[38;5;28;01mfor\u001b[39;00m i  \u001b[38;5;129;01min\u001b[39;00m a:\n\u001b[0;32m      3\u001b[0m     \u001b[38;5;28mprint\u001b[39m(i)\n",
      "\u001b[1;31mTypeError\u001b[0m: 'int' object is not iterable"
     ]
    }
   ],
   "source": [
    "a =10\n",
    "for i  in a:\n",
    "    print(i)"
   ]
  },
  {
   "cell_type": "code",
   "execution_count": null,
   "id": "4f460e4c-1800-4aaf-8449-d0a2f7a8be7a",
   "metadata": {},
   "outputs": [],
   "source": [
    "Armstrong number \n"
   ]
  },
  {
   "cell_type": "code",
   "execution_count": 247,
   "id": "3fc801a9-474f-48ca-8f68-35595211f805",
   "metadata": {},
   "outputs": [
    {
     "name": "stdout",
     "output_type": "stream",
     "text": [
      "10\n",
      "20\n"
     ]
    }
   ],
   "source": [
    "for i in [10,20]:\n",
    "    print(i)"
   ]
  },
  {
   "cell_type": "code",
   "execution_count": 251,
   "id": "43e21d26-e99b-45a8-b817-9d57bac2b75b",
   "metadata": {},
   "outputs": [
    {
     "name": "stdout",
     "output_type": "stream",
     "text": [
      "1\n",
      "0\n"
     ]
    }
   ],
   "source": [
    "for i in '10':\n",
    "    print(i)"
   ]
  },
  {
   "cell_type": "code",
   "execution_count": 253,
   "id": "72edfa28-05af-48b7-b99b-6ee4435b6005",
   "metadata": {},
   "outputs": [],
   "source": [
    "#We cannot iterate on numbers but we can on lists, tuples, string and so"
   ]
  },
  {
   "cell_type": "code",
   "execution_count": null,
   "id": "cadfbffa-62dc-46a0-a247-5c5a3f4abade",
   "metadata": {},
   "outputs": [],
   "source": [
    "#"
   ]
  },
  {
   "cell_type": "code",
   "execution_count": 255,
   "id": "bf35a277-b620-4b5f-9177-70d7cda4c64b",
   "metadata": {},
   "outputs": [
    {
     "name": "stdout",
     "output_type": "stream",
     "text": [
      "10\n",
      "20\n"
     ]
    }
   ],
   "source": [
    "lsit1 = ['10','20']\n",
    "for i in lsit1:\n",
    "    print(i)"
   ]
  },
  {
   "cell_type": "code",
   "execution_count": 281,
   "id": "fdd6f4ea-54cf-4231-b5cb-84fb49ab1b4b",
   "metadata": {},
   "outputs": [
    {
     "name": "stdin",
     "output_type": "stream",
     "text": [
      "Enter the number:  153\n"
     ]
    },
    {
     "name": "stdout",
     "output_type": "stream",
     "text": [
      "1\n",
      "126\n",
      "153\n",
      "Armstrong number\n"
     ]
    }
   ],
   "source": [
    "number = input('Enter the number: ')\n",
    "length= len(number)\n",
    "result = 0\n",
    "for i in number:\n",
    "    result = result+int(i)**length\n",
    "    print(result)\n",
    "if int(number)==result:\n",
    "    print('Armstrong number')\n",
    "else:\n",
    "    print('No')"
   ]
  },
  {
   "cell_type": "code",
   "execution_count": 261,
   "id": "804d1851-cb6a-4869-9582-7b80af7a2393",
   "metadata": {},
   "outputs": [
    {
     "ename": "TypeError",
     "evalue": "object of type 'int' has no len()",
     "output_type": "error",
     "traceback": [
      "\u001b[1;31m---------------------------------------------------------------------------\u001b[0m",
      "\u001b[1;31mTypeError\u001b[0m                                 Traceback (most recent call last)",
      "Cell \u001b[1;32mIn[261], line 2\u001b[0m\n\u001b[0;32m      1\u001b[0m num \u001b[38;5;241m=\u001b[39m \u001b[38;5;241m153\u001b[39m\n\u001b[1;32m----> 2\u001b[0m \u001b[38;5;28mlen\u001b[39m(num)\n",
      "\u001b[1;31mTypeError\u001b[0m: object of type 'int' has no len()"
     ]
    }
   ],
   "source": [
    "num = 153\n",
    "len(num)"
   ]
  },
  {
   "cell_type": "code",
   "execution_count": 285,
   "id": "3dd14b71-a2b1-419e-912c-8b8e4ef2894c",
   "metadata": {},
   "outputs": [
    {
     "name": "stdin",
     "output_type": "stream",
     "text": [
      "Enter the number:  153\n"
     ]
    },
    {
     "name": "stdout",
     "output_type": "stream",
     "text": [
      "[1]\n",
      "[1, 125]\n",
      "[1, 125, 27]\n",
      "Armstrong number\n"
     ]
    }
   ],
   "source": [
    "number = input('Enter the number: ')\n",
    "length= len(number)\n",
    "list = []\n",
    "for i in number:\n",
    "    list.append(int(i)**length)\n",
    "    print(list)\n",
    "if int(number)==sum(list):\n",
    "    print('Armstrong number')\n",
    "else:\n",
    "    print('No')"
   ]
  },
  {
   "cell_type": "code",
   "execution_count": 287,
   "id": "2df05dca-b2c2-419f-af32-7d180242fe05",
   "metadata": {},
   "outputs": [],
   "source": [
    "#While Loops"
   ]
  },
  {
   "cell_type": "code",
   "execution_count": 293,
   "id": "9db600db-f839-4ffe-abce-2f0d303e258d",
   "metadata": {},
   "outputs": [],
   "source": [
    "#When I want tot iterate on something - For loop is the best option \n",
    "#Iterate means picking up value one by one"
   ]
  },
  {
   "cell_type": "code",
   "execution_count": 295,
   "id": "38838d2b-78a3-4084-95dc-2c3693687e40",
   "metadata": {},
   "outputs": [],
   "source": [
    "#While Loop - When we are not sure for how many times the loop will run "
   ]
  },
  {
   "cell_type": "code",
   "execution_count": null,
   "id": "09af497c-2bd4-489a-b5cd-81920af98ed4",
   "metadata": {},
   "outputs": [],
   "source": [
    "while condition:\n",
    "    do something"
   ]
  },
  {
   "cell_type": "code",
   "execution_count": 333,
   "id": "d9f6f9f2-6ac3-41ae-83d9-35fa61ca4172",
   "metadata": {},
   "outputs": [],
   "source": [
    "while False:\n",
    "    print('Hi')"
   ]
  },
  {
   "cell_type": "code",
   "execution_count": 339,
   "id": "c85f8927-0aec-4e69-a09c-a413270d4db5",
   "metadata": {},
   "outputs": [
    {
     "name": "stdout",
     "output_type": "stream",
     "text": [
      "Total coupouns left are:  5\n",
      "Total coupouns left are:  4\n",
      "Total coupouns left are:  3\n",
      "Total coupouns left are:  2\n",
      "Total coupouns left are:  1\n",
      "No coupouns left\n"
     ]
    }
   ],
   "source": [
    "coupouns = 5\n",
    "utilized = 0\n",
    "while utilized<coupouns:\n",
    "    print('Total coupouns left are: ', coupouns-utilized)\n",
    "    #utilized=utilized+1\n",
    "    utilized+=1\n",
    "print('No coupouns left')"
   ]
  },
  {
   "cell_type": "code",
   "execution_count": null,
   "id": "03b854f2-9c42-47b5-9d11-e8fc5d3788d3",
   "metadata": {},
   "outputs": [],
   "source": [
    "5! = 5*4*3*2*1"
   ]
  },
  {
   "cell_type": "code",
   "execution_count": 351,
   "id": "0b3f859f-4b36-44a1-b1f9-bec862b8426f",
   "metadata": {},
   "outputs": [
    {
     "name": "stdin",
     "output_type": "stream",
     "text": [
      "Enter the number:  0\n"
     ]
    },
    {
     "name": "stdout",
     "output_type": "stream",
     "text": [
      "1\n"
     ]
    }
   ],
   "source": [
    "number = int(input('Enter the number: '))\n",
    "if number<0:\n",
    "    print('There is no factorial of a negative number')\n",
    "else:\n",
    "    result = 1\n",
    "    while number>=1:\n",
    "        result = result*number\n",
    "        number=number-1\n",
    "    print(result)"
   ]
  },
  {
   "cell_type": "code",
   "execution_count": null,
   "id": "386beb86-a95a-4205-aec9-de9cea0ffb98",
   "metadata": {},
   "outputs": [],
   "source": [
    "num=num-1\n",
    "num-=1\n",
    "num=-1"
   ]
  },
  {
   "cell_type": "code",
   "execution_count": 353,
   "id": "f8788f70-5a3f-4da9-99b6-5eaafecbedcc",
   "metadata": {},
   "outputs": [],
   "source": [
    "#User Defined Functions "
   ]
  },
  {
   "cell_type": "code",
   "execution_count": 355,
   "id": "590713c3-51f0-4754-b7f0-60d697e3401b",
   "metadata": {},
   "outputs": [],
   "source": [
    "#def - Defining the function"
   ]
  },
  {
   "cell_type": "code",
   "execution_count": 357,
   "id": "d600a48a-d6ae-40c7-9619-e29346a29b4b",
   "metadata": {},
   "outputs": [],
   "source": [
    "def greeting():\n",
    "    print('Good Morning')"
   ]
  },
  {
   "cell_type": "code",
   "execution_count": 363,
   "id": "f750ca19-daa7-4b96-8b61-8889079efcb3",
   "metadata": {},
   "outputs": [
    {
     "name": "stdout",
     "output_type": "stream",
     "text": [
      "Good Morning\n",
      "Good Morning\n",
      "Good Morning\n",
      "Good Morning\n"
     ]
    }
   ],
   "source": [
    "for i in range(0,4):\n",
    "    greeting()"
   ]
  },
  {
   "cell_type": "code",
   "execution_count": 365,
   "id": "51726278-148e-4989-b823-18ae4d3a0ed0",
   "metadata": {},
   "outputs": [],
   "source": [
    "def greeting(name):\n",
    "    print('Good morning', name)"
   ]
  },
  {
   "cell_type": "code",
   "execution_count": 369,
   "id": "370e7d05-3139-4d89-8577-792c33fca25d",
   "metadata": {},
   "outputs": [
    {
     "name": "stdout",
     "output_type": "stream",
     "text": [
      "Good morning Vinay\n"
     ]
    }
   ],
   "source": [
    "greeting('Vinay')"
   ]
  },
  {
   "cell_type": "code",
   "execution_count": 373,
   "id": "c8b7f664-8244-4f3c-8aef-e9251863445e",
   "metadata": {},
   "outputs": [
    {
     "name": "stdout",
     "output_type": "stream",
     "text": [
      "Good morning A\n",
      "Good morning B\n",
      "Good morning C\n",
      "Good morning D\n",
      "Good morning E\n"
     ]
    }
   ],
   "source": [
    "name = ['A','B','C','D','E']\n",
    "for i in name:\n",
    "    greeting(i)"
   ]
  },
  {
   "cell_type": "code",
   "execution_count": 375,
   "id": "d79ad593-4f5b-4204-ad5a-9c23d41a1b21",
   "metadata": {},
   "outputs": [],
   "source": [
    "def greeting(name='Learner'):\n",
    "    print('Good morning', name)"
   ]
  },
  {
   "cell_type": "code",
   "execution_count": 377,
   "id": "d8c2c529-03e5-4da4-b8a9-f09922acec4c",
   "metadata": {},
   "outputs": [
    {
     "name": "stdout",
     "output_type": "stream",
     "text": [
      "Good morning Punith\n"
     ]
    }
   ],
   "source": [
    "greeting('Punith')"
   ]
  },
  {
   "cell_type": "code",
   "execution_count": 379,
   "id": "f94c30ab-29ea-4bbb-bfa1-f89b40b67e46",
   "metadata": {},
   "outputs": [
    {
     "name": "stdout",
     "output_type": "stream",
     "text": [
      "Good morning Learner\n"
     ]
    }
   ],
   "source": [
    "greeting()"
   ]
  },
  {
   "cell_type": "code",
   "execution_count": 401,
   "id": "402dee62-dd14-457a-86dd-7f841c4a7383",
   "metadata": {},
   "outputs": [],
   "source": [
    "def calculator(num1,num2,operation='all'):\n",
    "    \"\"\"This function will be a calculator the operation values are all, sum,sub,div,mul\"\"\"\n",
    "    if operation=='all':\n",
    "        print(num1+num2)\n",
    "        print(num1-num2)\n",
    "        print(num1/num2)\n",
    "        print(num1*num2)\n",
    "    elif operation=='sum':\n",
    "        print(num1+num2)\n",
    "    elif operation=='sub':\n",
    "        print(num1-num2)\n",
    "    elif operation=='div':\n",
    "        print(num1/num2)\n",
    "    elif operation=='mul':\n",
    "        print(num1*num2)\n",
    "    else:\n",
    "        print('Pass the correct operation value')"
   ]
  },
  {
   "cell_type": "code",
   "execution_count": 399,
   "id": "9d4b4549-466a-44b5-912b-00a8eaf41adc",
   "metadata": {},
   "outputs": [
    {
     "name": "stdin",
     "output_type": "stream",
     "text": [
      "Enter the number1:  25\n",
      "Enter the number2:  5\n",
      "Enter the operation:  all\n"
     ]
    },
    {
     "name": "stdout",
     "output_type": "stream",
     "text": [
      "30\n",
      "20\n",
      "5.0\n",
      "125\n"
     ]
    }
   ],
   "source": [
    "num1 = int(input('Enter the number1: '))\n",
    "num2 = int(input('Enter the number2: '))\n",
    "op = input('Enter the operation: ')\n",
    "calculator(num1,num2,op)"
   ]
  },
  {
   "cell_type": "code",
   "execution_count": null,
   "id": "f37a4f51-2535-415b-8c9d-7541d3fb90a2",
   "metadata": {},
   "outputs": [],
   "source": [
    "calculator()"
   ]
  },
  {
   "cell_type": "code",
   "execution_count": null,
   "id": "2147978e-3e2f-4aac-a7ca-67a7b07d6478",
   "metadata": {},
   "outputs": [],
   "source": []
  },
  {
   "cell_type": "code",
   "execution_count": null,
   "id": "7b6ce5fa-21bf-4265-8bad-ffa69f9791c3",
   "metadata": {},
   "outputs": [],
   "source": []
  },
  {
   "cell_type": "code",
   "execution_count": null,
   "id": "6813d4ea-529e-4f41-8445-7f1dd28381a9",
   "metadata": {},
   "outputs": [],
   "source": []
  }
 ],
 "metadata": {
  "kernelspec": {
   "display_name": "Python 3 (ipykernel)",
   "language": "python",
   "name": "python3"
  },
  "language_info": {
   "codemirror_mode": {
    "name": "ipython",
    "version": 3
   },
   "file_extension": ".py",
   "mimetype": "text/x-python",
   "name": "python",
   "nbconvert_exporter": "python",
   "pygments_lexer": "ipython3",
   "version": "3.12.4"
  }
 },
 "nbformat": 4,
 "nbformat_minor": 5
}
