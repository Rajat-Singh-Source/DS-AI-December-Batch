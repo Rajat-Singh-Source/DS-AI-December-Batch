{
 "cells": [
  {
   "cell_type": "markdown",
   "id": "92485a74-2075-43eb-b056-eb10413d900a",
   "metadata": {},
   "source": [
    "Suppose that the value of a variable customer_type is 'new' and the value of a variable customer_income is 5345662. Store these values in the right variables and then write if statements to check whether the customer is a new customer and whether their income is above  4500000  INR. If so, then print the statement 'target for business loan'."
   ]
  },
  {
   "cell_type": "code",
   "execution_count": 6,
   "id": "61b0e391-c6e3-4aed-9f95-cda25e14885e",
   "metadata": {},
   "outputs": [
    {
     "name": "stdout",
     "output_type": "stream",
     "text": [
      "Target for Business Loan\n"
     ]
    }
   ],
   "source": [
    "customer_type = 'new'\n",
    "customer_income = 5345662\n",
    "if customer_type=='new' and customer_income>4500000:\n",
    "    print('Target for Business Loan')"
   ]
  },
  {
   "cell_type": "markdown",
   "id": "e10e7f0d-894f-4eb5-a0f4-11793c1b577f",
   "metadata": {},
   "source": [
    "Suppose that the value of a variable customer_type is 'new' and the value of a variable customer_income is 3267678. Store these values in the right variables and then write if-else statements to check whether the customer is a new customer and whether their income is above  4500000  INR. If so, then print the statement 'target for business loan'. If not, then print 'explore opportunities other than for business loans'"
   ]
  },
  {
   "cell_type": "code",
   "execution_count": 9,
   "id": "9fe9dcbb-cd09-4355-831d-360eb1e09534",
   "metadata": {},
   "outputs": [
    {
     "name": "stdout",
     "output_type": "stream",
     "text": [
      "Explore opportunities other than for business loans\n"
     ]
    }
   ],
   "source": [
    "customer_type = 'new'\n",
    "customer_income = 3267678\n",
    "if customer_type=='new' and customer_income>4500000:\n",
    "    print('Target for Business Loan')\n",
    "else:\n",
    "    print('Explore opportunities other than for business loans')"
   ]
  },
  {
   "cell_type": "markdown",
   "id": "12cb8da4-6ed5-4619-9b55-53c264988592",
   "metadata": {},
   "source": [
    "Write if-elif-else statements for the following set of rules on a variable called attendance:\n",
    "\n",
    "If attendance is perfect ( 30  days), label the employee as outstanding\n",
    "If attendance is between  25  and  29  days (inclusive), label the employee as satisfactory\n",
    "If attendance is between  20  and  24  days (inclusive), label the employee as fair\n",
    "If attendance is below  20  days, label the employee as poor"
   ]
  },
  {
   "cell_type": "code",
   "execution_count": 14,
   "id": "7fe8b550-e42a-4a24-bb4a-9c394cca5ce6",
   "metadata": {},
   "outputs": [
    {
     "name": "stdin",
     "output_type": "stream",
     "text": [
      "What is the attendance:  35\n"
     ]
    },
    {
     "name": "stdout",
     "output_type": "stream",
     "text": [
      "Poor\n"
     ]
    }
   ],
   "source": [
    "attendance = int(input('What is the attendance: '))\n",
    "if attendance==30:\n",
    "    print('Outstanding')\n",
    "elif attendance>=25 and attendance<=29:\n",
    "    print('Satisfactory')\n",
    "elif attendance>=20 and attendance<=24:\n",
    "    print('Fair')\n",
    "else:\n",
    "    print('Poor')"
   ]
  },
  {
   "cell_type": "code",
   "execution_count": 22,
   "id": "2f268938-b812-463c-8a28-2d1fbb0949da",
   "metadata": {},
   "outputs": [
    {
     "name": "stdin",
     "output_type": "stream",
     "text": [
      "Enter the month:  March\n",
      "Enter the attendance:  35\n"
     ]
    },
    {
     "name": "stdout",
     "output_type": "stream",
     "text": [
      "You cannot add more than 30\n"
     ]
    }
   ],
   "source": [
    "month = input('Enter the month: ')\n",
    "attendance = int(input('Enter the attendance: '))\n",
    "if month=='Feb':\n",
    "    if attendance==30:\n",
    "        print('The days are not valid')\n",
    "    elif attendance==28:\n",
    "        print('You are excellent')\n",
    "    elif attendance>20 and attendance<28:\n",
    "        print('Satisfactory')\n",
    "    elif attendance>30:\n",
    "        print('You cannot add more than 30')\n",
    "else:\n",
    "    if attendance==30:\n",
    "        print('Outstanding')\n",
    "    elif attendance>=25 and attendance<=29:\n",
    "        print('Satisfactory')\n",
    "    elif attendance>=20 and attendance<=24:\n",
    "        print('Fair')\n",
    "    elif attendance>30:\n",
    "        print('You cannot add more than 30')\n",
    "    else:\n",
    "        print('Poor')"
   ]
  },
  {
   "cell_type": "markdown",
   "id": "196b1b03-cd48-4805-abca-78a0d617bd2f",
   "metadata": {},
   "source": [
    "Write nested if statements for the following set of rules on two variables called Python_Skill and Math_Skill:\n",
    "\n",
    "If skill in Python is 'good' and skill in math is 'good', then print 'recommend advanced data structures topics'\n",
    "If skill in Python is 'good' and skill in math is not 'good', then print 'recommend application development topics'\n",
    "If skill in Python is not 'good' and skill in math is 'good', then print 'recommend data analytics tools topics'\n",
    "If skill in Python is not 'good' and skill in math is not 'good', then print 'recommend other topics'"
   ]
  },
  {
   "cell_type": "code",
   "execution_count": 27,
   "id": "06b34f21-6986-413a-9d0d-6af6f454138d",
   "metadata": {},
   "outputs": [
    {
     "name": "stdin",
     "output_type": "stream",
     "text": [
      "What is you python skills:  Good\n",
      "How is your maths skills:  Good\n"
     ]
    },
    {
     "name": "stdout",
     "output_type": "stream",
     "text": [
      "Advance Data Structures\n"
     ]
    }
   ],
   "source": [
    "python_skill = input('What is you python skills: ')\n",
    "maths_skills = input('How is your maths skills: ')\n",
    "\n",
    "if python_skill=='Good' and maths_skills=='Good':\n",
    "    print('Advance Data Structures')\n",
    "elif python_skill=='Good' and maths_skills=='Not Good':\n",
    "    print('App Dev')\n",
    "elif python_skill=='Not Good' and maths_skills=='Good':\n",
    "    print('Data Analytics')\n",
    "elif python_skill=='Good' and maths_skills=='Good':\n",
    "    print('Others')"
   ]
  },
  {
   "cell_type": "code",
   "execution_count": 41,
   "id": "cce1d55b-40af-423d-ba76-055f61a6bf05",
   "metadata": {},
   "outputs": [
    {
     "name": "stdin",
     "output_type": "stream",
     "text": [
      "What is you python skills:  GOOD\n",
      "How is your maths skills:  goOD\n"
     ]
    },
    {
     "name": "stdout",
     "output_type": "stream",
     "text": [
      "Adv DS\n"
     ]
    }
   ],
   "source": [
    "python_skill = input('What is you python skills: ').lower()\n",
    "maths_skills = input('How is your maths skills: ').lower()\n",
    "\n",
    "if python_skill=='good':\n",
    "    if maths_skills=='good':\n",
    "        print('Adv DS')\n",
    "    elif maths_skills=='not good':\n",
    "        print('App Dev')\n",
    "    else:\n",
    "        print('Pass the correct option')\n",
    "elif python_skill=='not good':\n",
    "    if maths_skills=='good':\n",
    "        print('DA')\n",
    "    else:\n",
    "        print('Others')\n",
    "else:\n",
    "    print('Pass the correct option')"
   ]
  },
  {
   "cell_type": "markdown",
   "id": "4ae46d17-1323-42b2-862e-ab4c6a3a7be1",
   "metadata": {},
   "source": [
    "You are working on a program that needs to display a countdown from 10 to 1, followed by the message \"Liftoff!\". Use a while loop to implement this countdown. Write the Python code to achieve this."
   ]
  },
  {
   "cell_type": "code",
   "execution_count": 67,
   "id": "406d3c5f-7f15-4623-bdf2-3b502b09ad35",
   "metadata": {},
   "outputs": [
    {
     "name": "stdin",
     "output_type": "stream",
     "text": [
      "Enter the count:  10\n"
     ]
    },
    {
     "name": "stdout",
     "output_type": "stream",
     "text": [
      "10\n",
      "9\n",
      "8\n",
      "7\n",
      "6\n",
      "5\n",
      "4\n",
      "3\n",
      "2\n",
      "1\n",
      "Happy New Year\n"
     ]
    }
   ],
   "source": [
    "import time\n",
    "count = int(input('Enter the count: '))\n",
    "if count==10:\n",
    "    while count>0:\n",
    "        print(count)\n",
    "        count=count-1\n",
    "        time.sleep(5)\n",
    "    print('Happy New Year')"
   ]
  },
  {
   "cell_type": "markdown",
   "id": "a153ab55-230f-4f24-ae11-34edb3b1e479",
   "metadata": {},
   "source": [
    "Write a program to count how many times a certain character appears in a string."
   ]
  },
  {
   "cell_type": "code",
   "execution_count": 59,
   "id": "febf9a82-02b1-4200-9922-187aedb8616c",
   "metadata": {},
   "outputs": [
    {
     "name": "stdin",
     "output_type": "stream",
     "text": [
      "Enter the number:  10\n"
     ]
    },
    {
     "name": "stdout",
     "output_type": "stream",
     "text": [
      "10\n",
      "9\n",
      "8\n",
      "7\n",
      "6\n",
      "5\n",
      "4\n",
      "3\n",
      "2\n",
      "1\n",
      "Happy New Year\n"
     ]
    }
   ],
   "source": [
    "count = int(input('Enter the number: '))\n",
    "for i in range(count,0,-1):\n",
    "    print(i)\n",
    "print('Happy New Year')"
   ]
  },
  {
   "cell_type": "code",
   "execution_count": 65,
   "id": "9e778027-511b-49d4-9487-03f89f9581b1",
   "metadata": {},
   "outputs": [
    {
     "data": {
      "text/plain": [
       "[10, 9, 8, 7, 6, 5, 4, 3, 2, 1]"
      ]
     },
     "execution_count": 65,
     "metadata": {},
     "output_type": "execute_result"
    }
   ],
   "source": [
    "list(range(10,0,-1))"
   ]
  },
  {
   "cell_type": "markdown",
   "id": "d3e8f656-8eb3-4dca-85b4-fb2c593ebd2a",
   "metadata": {},
   "source": [
    "Write a program to count how many times a certain character appears in a string."
   ]
  },
  {
   "cell_type": "code",
   "execution_count": 74,
   "id": "950b1b24-25c9-47e6-97bf-9568ea66de09",
   "metadata": {},
   "outputs": [],
   "source": [
    "def count_char(s,char_count):\n",
    "    count = 0 \n",
    "    for c in s:\n",
    "        if c==char_count:\n",
    "            count+=1\n",
    "    print(count)"
   ]
  },
  {
   "cell_type": "code",
   "execution_count": 83,
   "id": "f9039869-fe96-4e9e-bd3e-352bf958816c",
   "metadata": {},
   "outputs": [
    {
     "name": "stdout",
     "output_type": "stream",
     "text": [
      "0\n"
     ]
    }
   ],
   "source": [
    "count_char('Rahullululuululu','l')"
   ]
  },
  {
   "cell_type": "markdown",
   "id": "66269608-c613-4b05-a391-be6ac386b6fe",
   "metadata": {},
   "source": [
    "Create a function that calculates and prints the square of 10. Add a docstring to help describe the function."
   ]
  },
  {
   "cell_type": "code",
   "execution_count": 81,
   "id": "12b7db73-e5cf-4876-a120-bae0e715f4fc",
   "metadata": {},
   "outputs": [
    {
     "name": "stdout",
     "output_type": "stream",
     "text": [
      "4\n"
     ]
    }
   ],
   "source": [
    "s = 'rahulululul'\n",
    "char_count = 'l'\n",
    "count = 0 \n",
    "for c in s:\n",
    "    if c==char_count:\n",
    "        count+=1\n",
    "print(count)"
   ]
  },
  {
   "cell_type": "code",
   "execution_count": 85,
   "id": "924f7e68-3853-421a-b267-15964e1de30a",
   "metadata": {},
   "outputs": [],
   "source": [
    "def add(num1,num2):\n",
    "    print(num1+num2)\n",
    "    "
   ]
  },
  {
   "cell_type": "code",
   "execution_count": 89,
   "id": "552a452c-518a-479e-9ea9-6af5f2479546",
   "metadata": {},
   "outputs": [
    {
     "name": "stdout",
     "output_type": "stream",
     "text": [
      "12\n"
     ]
    }
   ],
   "source": [
    "add(10,2)"
   ]
  },
  {
   "cell_type": "code",
   "execution_count": 91,
   "id": "9b338f45-e209-4339-b246-4d56aaf25d4f",
   "metadata": {},
   "outputs": [],
   "source": [
    "def add():\n",
    "    num1 = int(input('Enter the number: '))\n",
    "    num2 = int(input('Enter the number: '))\n",
    "    print(num1+num2)"
   ]
  },
  {
   "cell_type": "code",
   "execution_count": 95,
   "id": "a5c11be0-7152-4e25-ab8b-c4edd3f3a667",
   "metadata": {},
   "outputs": [
    {
     "name": "stdin",
     "output_type": "stream",
     "text": [
      "Enter the number:  r\n"
     ]
    },
    {
     "ename": "ValueError",
     "evalue": "invalid literal for int() with base 10: 'r'",
     "output_type": "error",
     "traceback": [
      "\u001b[1;31m---------------------------------------------------------------------------\u001b[0m",
      "\u001b[1;31mValueError\u001b[0m                                Traceback (most recent call last)",
      "Cell \u001b[1;32mIn[95], line 1\u001b[0m\n\u001b[1;32m----> 1\u001b[0m add()\n",
      "Cell \u001b[1;32mIn[91], line 2\u001b[0m, in \u001b[0;36madd\u001b[1;34m()\u001b[0m\n\u001b[0;32m      1\u001b[0m \u001b[38;5;28;01mdef\u001b[39;00m \u001b[38;5;21madd\u001b[39m():\n\u001b[1;32m----> 2\u001b[0m     num1 \u001b[38;5;241m=\u001b[39m \u001b[38;5;28mint\u001b[39m(\u001b[38;5;28minput\u001b[39m(\u001b[38;5;124m'\u001b[39m\u001b[38;5;124mEnter the number: \u001b[39m\u001b[38;5;124m'\u001b[39m))\n\u001b[0;32m      3\u001b[0m     num2 \u001b[38;5;241m=\u001b[39m \u001b[38;5;28mint\u001b[39m(\u001b[38;5;28minput\u001b[39m(\u001b[38;5;124m'\u001b[39m\u001b[38;5;124mEnter the number: \u001b[39m\u001b[38;5;124m'\u001b[39m))\n\u001b[0;32m      4\u001b[0m     \u001b[38;5;28mprint\u001b[39m(num1\u001b[38;5;241m+\u001b[39mnum2)\n",
      "\u001b[1;31mValueError\u001b[0m: invalid literal for int() with base 10: 'r'"
     ]
    }
   ],
   "source": [
    "add()"
   ]
  },
  {
   "cell_type": "code",
   "execution_count": 97,
   "id": "abe2ba00-33f9-4642-a2f1-0f8e86903788",
   "metadata": {},
   "outputs": [],
   "source": [
    "stu_list = {'sid':1, 'sname':'Rahul'}"
   ]
  },
  {
   "cell_type": "code",
   "execution_count": 101,
   "id": "28fea7af-3605-42d9-a595-2c72ab51930b",
   "metadata": {},
   "outputs": [
    {
     "data": {
      "text/plain": [
       "dict"
      ]
     },
     "execution_count": 101,
     "metadata": {},
     "output_type": "execute_result"
    }
   ],
   "source": [
    "type(stu_list)"
   ]
  },
  {
   "cell_type": "code",
   "execution_count": 103,
   "id": "02424905-bb19-47af-a73e-8e0cf4851975",
   "metadata": {},
   "outputs": [
    {
     "data": {
      "text/plain": [
       "{'sid': 1, 'sname': 'Rahul'}"
      ]
     },
     "execution_count": 103,
     "metadata": {},
     "output_type": "execute_result"
    }
   ],
   "source": [
    "stu_list"
   ]
  },
  {
   "cell_type": "code",
   "execution_count": null,
   "id": "69abf63f-1ecb-49e8-a15a-b7c2b1417f90",
   "metadata": {},
   "outputs": [],
   "source": [
    "'rahululululu'\n",
    "{'r':1, 'a':1,'h':1,'u':5,'l':4}"
   ]
  },
  {
   "cell_type": "code",
   "execution_count": 105,
   "id": "cae5bbe7-8365-472a-b57e-e84074fbb902",
   "metadata": {},
   "outputs": [
    {
     "name": "stdout",
     "output_type": "stream",
     "text": [
      "{'r': 1, 'a': 1, 'h': 1, 'u': 5, 'l': 4}\n"
     ]
    }
   ],
   "source": [
    "s = 'rahululululu'\n",
    "char_counts = {}\n",
    "for c in s:\n",
    "    if c in char_counts:\n",
    "        char_counts[c]+=1\n",
    "    else:\n",
    "        char_counts[c] = 1\n",
    "print(char_counts)"
   ]
  },
  {
   "cell_type": "markdown",
   "id": "b13757b6-f695-47b0-b921-33cf3033c8a2",
   "metadata": {},
   "source": [
    "Create a function that calculates and prints the square of 10. Add a docstring to help describe the function."
   ]
  },
  {
   "cell_type": "code",
   "execution_count": 112,
   "id": "9685687c-9f22-467c-a317-1693d1a5ebb8",
   "metadata": {},
   "outputs": [
    {
     "data": {
      "text/plain": [
       "3"
      ]
     },
     "execution_count": 112,
     "metadata": {},
     "output_type": "execute_result"
    }
   ],
   "source": [
    "word = \"Hello Upgrad Welcome to IIITB\"\n",
    "word.count('I')"
   ]
  },
  {
   "cell_type": "markdown",
   "id": "2a60e290-236e-4c6d-a01c-10716a122aff",
   "metadata": {},
   "source": [
    "Create a function that calculates and prints the square of 10. Add a docstring to help describe the function."
   ]
  },
  {
   "cell_type": "code",
   "execution_count": 115,
   "id": "77911817-352a-4d45-ae3d-2339ae44ff48",
   "metadata": {},
   "outputs": [],
   "source": [
    "def num_squared(num):\n",
    "    \"\"\"To get the square\"\"\"\n",
    "    print(num**2)"
   ]
  },
  {
   "cell_type": "code",
   "execution_count": 117,
   "id": "7bded1f5-375b-4915-b6c8-61b2af26ee93",
   "metadata": {},
   "outputs": [
    {
     "name": "stdout",
     "output_type": "stream",
     "text": [
      "100\n"
     ]
    }
   ],
   "source": [
    "num_squared(10)"
   ]
  },
  {
   "cell_type": "code",
   "execution_count": 119,
   "id": "b166ec3e-b5ed-451b-b591-766014aeaeda",
   "metadata": {},
   "outputs": [
    {
     "name": "stdout",
     "output_type": "stream",
     "text": [
      "Help on function num_squared in module __main__:\n",
      "\n",
      "num_squared(num)\n",
      "    To get the square\n",
      "\n"
     ]
    }
   ],
   "source": [
    "help(num_squared)"
   ]
  },
  {
   "cell_type": "markdown",
   "id": "1508c844-bae1-4edc-96e3-68449467de94",
   "metadata": {},
   "source": [
    "Save the string '2024B4A3' in a global variable ID. Then define a function called append_string that appends the string '737G' to the string stored in ID by changing the ID variable itself."
   ]
  },
  {
   "cell_type": "code",
   "execution_count": 122,
   "id": "9de0db94-b078-4cbe-95ad-0371e1d31720",
   "metadata": {},
   "outputs": [],
   "source": [
    "ID = '2024B4A3'"
   ]
  },
  {
   "cell_type": "code",
   "execution_count": 154,
   "id": "e4ad8a89-d703-4206-92eb-fa6afeb985ca",
   "metadata": {},
   "outputs": [],
   "source": [
    "def append_string():\n",
    "    global ID \n",
    "    ID = ID + '737G'\n",
    "    print(ID)"
   ]
  },
  {
   "cell_type": "code",
   "execution_count": 179,
   "id": "6a64bc4f-d4e0-47a7-9a7c-b6cb19ea6a03",
   "metadata": {},
   "outputs": [
    {
     "name": "stdout",
     "output_type": "stream",
     "text": [
      "2024B4A3737G737G737G737G737G737G737G737G737G737G737G737G737G\n"
     ]
    }
   ],
   "source": [
    "append_string()"
   ]
  },
  {
   "cell_type": "code",
   "execution_count": 181,
   "id": "4ea75fb1-2d80-4c5e-bf1e-686b174a0277",
   "metadata": {},
   "outputs": [
    {
     "data": {
      "text/plain": [
       "'2024B4A3737G737G737G737G737G737G737G737G737G737G737G737G737G'"
      ]
     },
     "execution_count": 181,
     "metadata": {},
     "output_type": "execute_result"
    }
   ],
   "source": [
    "ID"
   ]
  },
  {
   "cell_type": "code",
   "execution_count": 150,
   "id": "eb8d38d7-4650-4718-bd87-390fff635a29",
   "metadata": {},
   "outputs": [
    {
     "name": "stdout",
     "output_type": "stream",
     "text": [
      "10\n",
      "10\n"
     ]
    }
   ],
   "source": [
    "a = 1000\n",
    "def f1():\n",
    "    global a\n",
    "    a = 10\n",
    "    print(a)\n",
    "\n",
    "f1()\n",
    "\n",
    "def f2():\n",
    "    print(a)\n",
    "f2()"
   ]
  },
  {
   "cell_type": "markdown",
   "id": "e4f60ddc-31d0-4046-8ee8-40800cd028fe",
   "metadata": {},
   "source": [
    "Write a function that returns the sum and product of the numbers 2 and 3."
   ]
  },
  {
   "cell_type": "code",
   "execution_count": 183,
   "id": "fed15770-138c-48ce-a883-6a46663c7d22",
   "metadata": {},
   "outputs": [],
   "source": [
    "def return_numbers(num1,num2):\n",
    "    print(num1*num2)\n",
    "    print(num1+num2)"
   ]
  },
  {
   "cell_type": "code",
   "execution_count": 185,
   "id": "f093decc-3d85-49d2-bf52-af91932d8972",
   "metadata": {},
   "outputs": [
    {
     "name": "stdout",
     "output_type": "stream",
     "text": [
      "6\n",
      "5\n"
     ]
    }
   ],
   "source": [
    "return_numbers(2,3)"
   ]
  },
  {
   "cell_type": "code",
   "execution_count": 187,
   "id": "f0770729-072b-45d3-98ac-88f23bfc7f34",
   "metadata": {},
   "outputs": [],
   "source": [
    "def add(num1,num2):\n",
    "    total = num1+num2\n",
    "    print(total)"
   ]
  },
  {
   "cell_type": "code",
   "execution_count": 191,
   "id": "b408e84b-a8bd-41b1-bc1b-7a9d3cc594eb",
   "metadata": {},
   "outputs": [
    {
     "name": "stdout",
     "output_type": "stream",
     "text": [
      "30\n"
     ]
    }
   ],
   "source": [
    "outcome = add(10,20)"
   ]
  },
  {
   "cell_type": "code",
   "execution_count": 225,
   "id": "8916b8c1-0d54-44a8-8606-0b34858f4512",
   "metadata": {},
   "outputs": [
    {
     "data": {
      "text/plain": [
       "NoneType"
      ]
     },
     "execution_count": 225,
     "metadata": {},
     "output_type": "execute_result"
    }
   ],
   "source": [
    "type(outcome)"
   ]
  },
  {
   "cell_type": "code",
   "execution_count": 227,
   "id": "408a8e31-0bdc-48d2-aaed-7f769bc41cab",
   "metadata": {},
   "outputs": [],
   "source": [
    "def add(num1,num2):\n",
    "    total = num1+num2\n",
    "    return total"
   ]
  },
  {
   "cell_type": "code",
   "execution_count": 229,
   "id": "885d5b76-aa47-4951-b7b9-0fe60da5f16c",
   "metadata": {},
   "outputs": [],
   "source": [
    "outcome = add(10,20)"
   ]
  },
  {
   "cell_type": "code",
   "execution_count": 231,
   "id": "eccfc1ff-4022-4c98-b850-5be3eff83591",
   "metadata": {},
   "outputs": [
    {
     "data": {
      "text/plain": [
       "30"
      ]
     },
     "execution_count": 231,
     "metadata": {},
     "output_type": "execute_result"
    }
   ],
   "source": [
    "outcome"
   ]
  },
  {
   "cell_type": "code",
   "execution_count": 233,
   "id": "ef7d9220-4347-4230-af5d-647adfd6fd46",
   "metadata": {},
   "outputs": [],
   "source": [
    "def calc(num1,num2,operation):\n",
    "    if operation=='all':\n",
    "        print(num1+num2)\n",
    "        print(num1-num2)\n",
    "        print(num1/num2)\n",
    "        print(num1*num2)\n",
    "    elif operation=='add':\n",
    "        print(num1+num2)\n",
    "    elif operation=='sub':\n",
    "        print(num1-num2)\n",
    "    elif operation=='mul':\n",
    "        print(num1*num2)\n",
    "    elif operation=='div':\n",
    "        print(num1/num2)\n",
    "    else:\n",
    "        print('Pass the correct option')"
   ]
  },
  {
   "cell_type": "code",
   "execution_count": 239,
   "id": "12133000-76e4-45d3-9011-8c3230ed2114",
   "metadata": {},
   "outputs": [
    {
     "name": "stdout",
     "output_type": "stream",
     "text": [
      "30\n",
      "-10\n",
      "0.5\n",
      "200\n"
     ]
    }
   ],
   "source": [
    "output = calc(10,20,'all')"
   ]
  },
  {
   "cell_type": "code",
   "execution_count": 253,
   "id": "40034984-c559-4462-9f25-1870793bbf33",
   "metadata": {},
   "outputs": [
    {
     "data": {
      "text/plain": [
       "NoneType"
      ]
     },
     "execution_count": 253,
     "metadata": {},
     "output_type": "execute_result"
    }
   ],
   "source": [
    "type(output)"
   ]
  },
  {
   "cell_type": "code",
   "execution_count": 313,
   "id": "99e1a1f5-ef0f-4021-903c-cd502924ec5e",
   "metadata": {},
   "outputs": [],
   "source": [
    "def calc(num1,num2,operation):\n",
    "    if operation=='all':\n",
    "        print(num1+num2)\n",
    "        print(num1-num2)\n",
    "        print(num1/num2)\n",
    "        print(num1*num2)\n",
    "        return{'sum':num1+num2, 'sub':num1-num2,'mul':num1*num2, 'div':num1/num2}\n",
    "\n",
    "    elif operation=='add':\n",
    "        return(num1+num2)\n",
    "    elif operation=='sub':\n",
    "        return(num1-num2)\n",
    "    elif operation=='mul':\n",
    "        return(num1*num2)\n",
    "    elif operation=='div':\n",
    "        return(num1/num2)\n",
    "    else:\n",
    "        return('Pass the correct option')"
   ]
  },
  {
   "cell_type": "code",
   "execution_count": 315,
   "id": "3fbecf62-e013-457c-8b8a-a8807b79f1c0",
   "metadata": {},
   "outputs": [
    {
     "name": "stdout",
     "output_type": "stream",
     "text": [
      "2447668468\n",
      "-2400800000\n",
      "0.009666654183549494\n",
      "56810072310366756\n"
     ]
    }
   ],
   "source": [
    "output = calc(23434234,2424234234,'all')"
   ]
  },
  {
   "cell_type": "code",
   "execution_count": 317,
   "id": "09f24b94-0f4a-4d14-8ebe-acf99dc11169",
   "metadata": {},
   "outputs": [
    {
     "data": {
      "text/plain": [
       "{'sum': 2447668468,\n",
       " 'sub': -2400800000,\n",
       " 'mul': 56810072310366756,\n",
       " 'div': 0.009666654183549494}"
      ]
     },
     "execution_count": 317,
     "metadata": {},
     "output_type": "execute_result"
    }
   ],
   "source": [
    "output"
   ]
  },
  {
   "cell_type": "code",
   "execution_count": 319,
   "id": "ed746ea6-7942-45d2-8aec-5fe395c961d1",
   "metadata": {},
   "outputs": [
    {
     "name": "stdout",
     "output_type": "stream",
     "text": [
      "5\n",
      "6\n"
     ]
    }
   ],
   "source": [
    "def return_numbers():\n",
    "    result_sum = print(2+3)\n",
    "    result_product = print(2*3)\n",
    "\n",
    "return_numbers()"
   ]
  },
  {
   "cell_type": "code",
   "execution_count": 321,
   "id": "ca601a03-9fc8-4aef-bf8e-3b1082ce765f",
   "metadata": {},
   "outputs": [],
   "source": [
    "def return_numbers():\n",
    "    \"\"\"\n",
    "    Calculates the sum and product of 2 and 3 and returns the two values.\n",
    "    Returns:\n",
    "    - int: The sum of the two random numbers\n",
    "    - int: The product of the two random numbers\n",
    "    \"\"\"\n",
    "    # Declare the two numbers\n",
    "    num1 = 2\n",
    "    num2 = 3\n",
    "\n",
    "    # Calculate sum and product\n",
    "    summation = num1 + num2\n",
    "    product = num1 * num2\n",
    "\n",
    "    # Return both values\n",
    "    return summation, product"
   ]
  },
  {
   "cell_type": "code",
   "execution_count": 323,
   "id": "8e041f39-a2e6-4650-b83c-93f982eacfd7",
   "metadata": {},
   "outputs": [],
   "source": [
    "result_sum, result_product = return_numbers()"
   ]
  },
  {
   "cell_type": "code",
   "execution_count": 325,
   "id": "45018e10-f65f-469a-a2a9-d5e38757d0eb",
   "metadata": {},
   "outputs": [
    {
     "name": "stdout",
     "output_type": "stream",
     "text": [
      "Sum: 5, Product: 6\n"
     ]
    }
   ],
   "source": [
    "print(f\"Sum: {result_sum}, Product: {result_product}\")"
   ]
  }
 ],
 "metadata": {
  "kernelspec": {
   "display_name": "Python 3 (ipykernel)",
   "language": "python",
   "name": "python3"
  },
  "language_info": {
   "codemirror_mode": {
    "name": "ipython",
    "version": 3
   },
   "file_extension": ".py",
   "mimetype": "text/x-python",
   "name": "python",
   "nbconvert_exporter": "python",
   "pygments_lexer": "ipython3",
   "version": "3.12.4"
  }
 },
 "nbformat": 4,
 "nbformat_minor": 5
}
